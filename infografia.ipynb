{
  "nbformat": 4,
  "nbformat_minor": 0,
  "metadata": {
    "colab": {
      "provenance": [],
      "authorship_tag": "ABX9TyMHkpecTGow8dYbTamty2EZ",
      "include_colab_link": true
    },
    "kernelspec": {
      "name": "python3",
      "display_name": "Python 3"
    },
    "language_info": {
      "name": "python"
    }
  },
  "cells": [
    {
      "cell_type": "markdown",
      "metadata": {
        "id": "view-in-github",
        "colab_type": "text"
      },
      "source": [
        "<a href=\"https://colab.research.google.com/github/felipeefajardo/gobiermo_datos/blob/main/infografia.ipynb\" target=\"_parent\"><img src=\"https://colab.research.google.com/assets/colab-badge.svg\" alt=\"Open In Colab\"/></a>"
      ]
    },
    {
      "cell_type": "markdown",
      "source": [
        "#INFOGRAFÍA"
      ],
      "metadata": {
        "id": "idy27N5AFpBw"
      }
    },
    {
      "cell_type": "code",
      "source": [],
      "metadata": {
        "id": "IZxMvC2YFsv4"
      },
      "execution_count": null,
      "outputs": []
    }
  ]
}